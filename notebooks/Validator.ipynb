{
 "cells": [
  {
   "cell_type": "markdown",
   "metadata": {},
   "source": [
    "# SPARQL queries & tests"
   ]
  },
  {
   "cell_type": "markdown",
   "metadata": {},
   "source": [
    "## Database password\n",
    "Please fill in the database password below"
   ]
  },
  {
   "cell_type": "code",
   "execution_count": null,
   "metadata": {},
   "outputs": [],
   "source": [
    "from __future__ import print_function\n",
    "import ipywidgets as widgets\n",
    "usernameField = widgets.Text(value=\"postgres\", description=\"Username:\")\n",
    "passwordField = widgets.Password(value=\"postgres\", description=\"Password:\")\n",
    "databaseField = widgets.Text(value=\"protrait\", description=\"Database:\")\n",
    "\n",
    "widgets.VBox([usernameField, passwordField, databaseField])"
   ]
  },
  {
   "cell_type": "code",
   "execution_count": null,
   "metadata": {},
   "outputs": [],
   "source": [
    "import warnings\n",
    "from sqlalchemy import create_engine\n",
    "\n",
    "if passwordField.value == usernameField.value:\n",
    "    warnings.warn(\"Warning, are username and password actually the same!\")\n",
    "\n",
    "connectionString = \"postgresql://%s:%s@dbhost:5432/%s\" % (usernameField.value, passwordField.value, databaseField.value)\n",
    "dbEngine = create_engine(connectionString)"
   ]
  },
  {
   "cell_type": "code",
   "execution_count": null,
   "metadata": {},
   "outputs": [],
   "source": [
    "from r2rmlQueryEditor import R2RMLQueryEditor\n",
    "\n",
    "r2rmlEditor = R2RMLQueryEditor(\"http://graphdb:7200/repositories/r2rml\", dbEngine)\n",
    "widgets.VBox(r2rmlEditor.runInterface())"
   ]
  },
  {
   "cell_type": "code",
   "execution_count": null,
   "metadata": {},
   "outputs": [],
   "source": [
    "r2rmlEditor.comparisonEngine.load('gender', sqlDateColumns=[], sparqlDateColumns=[])"
   ]
  },
  {
   "cell_type": "code",
   "execution_count": null,
   "metadata": {},
   "outputs": [],
   "source": [
    "r2rmlEditor.comparisonEngine.interact(figsize=(18, 8))"
   ]
  },
  {
   "cell_type": "code",
   "execution_count": null,
   "metadata": {},
   "outputs": [],
   "source": []
  }
 ],
 "metadata": {
  "kernelspec": {
   "display_name": "Python 2",
   "language": "python",
   "name": "python2"
  },
  "language_info": {
   "codemirror_mode": {
    "name": "ipython",
    "version": 2
   },
   "file_extension": ".py",
   "mimetype": "text/x-python",
   "name": "python",
   "nbconvert_exporter": "python",
   "pygments_lexer": "ipython2",
   "version": "2.7.18"
  }
 },
 "nbformat": 4,
 "nbformat_minor": 2
}
