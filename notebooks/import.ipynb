{
 "cells": [
  {
   "cell_type": "markdown",
   "metadata": {},
   "source": [
    "# Data import\n",
    "\n",
    "To connect and get a terminal to the postgres docker, run `docker exec -it pbdw2018_hackathon-master_data_postgres_1 /bin/bash`\n",
    "\n",
    "You can then do things like\n",
    "\n",
    "dropdb mydata -U postgres\n",
    "\n",
    "or\n",
    "\n",
    "psql postgres -U postgres\n"
   ]
  },
  {
   "cell_type": "code",
   "execution_count": null,
   "metadata": {},
   "outputs": [],
   "source": [
    "import psycopg2\n",
    "from psycopg2.extensions import ISOLATION_LEVEL_AUTOCOMMIT\n",
    "import csv\n",
    "\n",
    "# Connect to an existing database\n",
    "try:\n",
    "    conn = psycopg2.connect(\"host=postgresdb user=postgres password=postgres\")\n",
    "except:\n",
    "    print (\"Error:  unable to connect to the database\")\n",
    "conn.set_isolation_level(ISOLATION_LEVEL_AUTOCOMMIT)\n",
    "\n",
    "# Open a cursor to perform database operations\n",
    "cur = conn.cursor()\n",
    "\n",
    "# Execute a command to end all connections to the db\n",
    "try:\n",
    "    cur.execute(\"SELECT pg_terminate_backend(pg_stat_activity.pid) FROM pg_stat_activity WHERE pg_stat_activity.datname = 'mydata' AND pid <> pg_backend_pid();\")\n",
    "except:\n",
    "    print(\"Error killing database connections, perhaps it does not exist?\")\n",
    "    \n",
    "# Execute a command to drop the table\n",
    "try:\n",
    "    cur.execute(\"DROP DATABASE mydata\")\n",
    "except:\n",
    "    print(\"Error while dropping database, perhaps it does not exist?\")\n",
    "\n",
    "# Execute a command to create a new table\n",
    "try:\n",
    "    cur.execute(\"CREATE DATABASE mydata;\")\n",
    "except:\n",
    "    print(\"Error while creating database, does it already exist?\")\n",
    "# Close database connection\n",
    "conn.close()"
   ]
  },
  {
   "cell_type": "code",
   "execution_count": null,
   "metadata": {},
   "outputs": [],
   "source": [
    "# Connect to an existing database\n",
    "conn = psycopg2.connect(\"host=postgresdb user=postgres dbname=mydata password=postgres\")\n",
    "conn.set_isolation_level(ISOLATION_LEVEL_AUTOCOMMIT)\n",
    "# Open a cursor to perform database operations\n",
    "cur = conn.cursor()\n",
    "# Execute a command: this creates a new table\n",
    "try:\n",
    "    cur.execute(\"\"\"CREATE TABLE registration (\n",
    "    patient_id text PRIMARY KEY,\n",
    "    treating_clinic text,\n",
    "    contact_person_treating_clinic text,\n",
    "    referring_clinic text,\n",
    "    registration_date text\n",
    "    );\n",
    "    \"\"\")\n",
    "except:\n",
    "    print(\"Error while creating table, does it already exist?\")\n",
    "# Close database connection\n",
    "conn.close()"
   ]
  },
  {
   "cell_type": "code",
   "execution_count": null,
   "metadata": {},
   "outputs": [],
   "source": [
    "import pandas\n",
    "# Connect to an existing database\n",
    "conn = psycopg2.connect(\"host=postgresdb user=postgres dbname=mydata password=postgres\")\n",
    "cur = conn.cursor()\n",
    "\n",
    "#open CSV file\n",
    "df = pandas.read_csv('testData/dummy_registrationInformation.csv')\n",
    "for index, row in df.iterrows():\n",
    "    print(str(index) + \" | \" + row[\"Patient Identification Number\"])\n",
    "\n",
    "    cur.execute(\"\"\"INSERT INTO registration (patient_id,treating_clinic,contact_person_treating_clinic,referring_clinic,registration_date) \n",
    "        VALUES (%s, %s, %s, %s, %s)\"\"\",\n",
    "          (row[\"Patient Identification Number\"], row[\"Particle (treating) center\"], row[\"Contact person particle center\"], row[\"Referring center\"], row[\"Date of registration\"]))\n",
    "conn.commit()"
   ]
  },
  {
   "cell_type": "code",
   "execution_count": null,
   "metadata": {},
   "outputs": [],
   "source": [
    "# Connect to an existing database\n",
    "conn = psycopg2.connect(\"host=postgresdb user=postgres dbname=mydata password=postgres\")\n",
    "cur = conn.cursor()\n",
    "\n",
    "cur.execute(\"\"\"SELECT *\n",
    "    FROM registration;\"\"\")\n",
    "\n",
    "results = cur.fetchall()\n",
    "conn.close()\n",
    "\n",
    "for row in results:\n",
    "    print(row)"
   ]
  },
  {
   "cell_type": "code",
   "execution_count": null,
   "metadata": {},
   "outputs": [],
   "source": []
  }
 ],
 "metadata": {
  "kernelspec": {
   "display_name": "Python 2",
   "language": "python",
   "name": "python2"
  },
  "language_info": {
   "codemirror_mode": {
    "name": "ipython",
    "version": 2
   },
   "file_extension": ".py",
   "mimetype": "text/x-python",
   "name": "python",
   "nbconvert_exporter": "python",
   "pygments_lexer": "ipython2",
   "version": "2.7.16"
  }
 },
 "nbformat": 4,
 "nbformat_minor": 2
}
