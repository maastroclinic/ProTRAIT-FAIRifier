{
 "cells": [
  {
   "cell_type": "markdown",
   "metadata": {},
   "source": [
    "# Data import\n",
    "\n",
    "This notebook imports dummy data into the Postgres default database schema for ProTRAIT.\n",
    "You can use this import to create a filled database, and see if the full workflow works for ProTRAIT nodes.\n",
    "\n",
    "**Mind: this notebook does not need to be executed for production systems, only for development/test**\n"
   ]
  },
  {
   "cell_type": "code",
   "execution_count": null,
   "metadata": {},
   "outputs": [],
   "source": [
    "import pandas\n",
    "# Connect to an existing database\n",
    "conn = psycopg2.connect(\"host=postgresdb user=postgres dbname=mydata password=postgres\")\n",
    "cur = conn.cursor()\n",
    "\n",
    "#open CSV file\n",
    "df = pandas.read_csv('Clinical1.csv')\n",
    "for index, row in df.iterrows():\n",
    "    #print(str(index) + \" | \" + row.Idfu)\n",
    "    #cur.execute\n",
    "    cur.execute(\"\"\"INSERT INTO PBDWHackathon2018 (ID, PatientID, Age, Clinical_T_Stage, Clinical_N_Stage, Clinical_M_Stage, Overall_Stage, Histology, Gender, SurvivalTime, DeadStatus) \n",
    "        VALUES (%s, %s, %s, %s, %s, %s, %s, %s, %s, %s, %s)\"\"\",\n",
    "          (index, row.PatientID, row.Age, row[\"Clinical.T.Stage\"], row[\"Clinical.N.Stage\"], row[\"Clinical.M.Stage\"], row[\"Overall.Ajcc.Stage\"], row.Histology, row.Sex, row[\"Survival.Time.Days\"], row[\"deadstatus.event\"]))\n",
    "conn.commit()"
   ]
  },
  {
   "cell_type": "code",
   "execution_count": null,
   "metadata": {},
   "outputs": [],
   "source": [
    "# Connect to an existing database\n",
    "conn = psycopg2.connect(\"host=postgresdb user=postgres dbname=mydata password=postgres\")\n",
    "cur = conn.cursor()\n",
    "\n",
    "cur.execute(\"\"\"SELECT *\n",
    "    FROM PBDWHackathon2018;\"\"\")\n",
    "\n",
    "results = cur.fetchall()\n",
    "conn.close()\n",
    "\n",
    "for row in results:\n",
    "    print(row)"
   ]
  },
  {
   "cell_type": "code",
   "execution_count": null,
   "metadata": {},
   "outputs": [],
   "source": []
  }
 ],
 "metadata": {
  "kernelspec": {
   "display_name": "Python 2",
   "language": "python",
   "name": "python2"
  },
  "language_info": {
   "codemirror_mode": {
    "name": "ipython",
    "version": 2
   },
   "file_extension": ".py",
   "mimetype": "text/x-python",
   "name": "python",
   "nbconvert_exporter": "python",
   "pygments_lexer": "ipython2",
   "version": "2.7.17"
  }
 },
 "nbformat": 4,
 "nbformat_minor": 2
}
